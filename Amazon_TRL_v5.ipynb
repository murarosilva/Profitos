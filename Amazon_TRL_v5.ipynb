{
  "nbformat": 4,
  "nbformat_minor": 0,
  "metadata": {
    "colab": {
      "provenance": [],
      "authorship_tag": "ABX9TyO++youWbB1iLFkQETEjpUN",
      "include_colab_link": true
    },
    "kernelspec": {
      "name": "python3",
      "display_name": "Python 3"
    },
    "language_info": {
      "name": "python"
    }
  },
  "cells": [
    {
      "cell_type": "markdown",
      "metadata": {
        "id": "view-in-github",
        "colab_type": "text"
      },
      "source": [
        "<a href=\"https://colab.research.google.com/github/murarosilva/Profitos/blob/main/Amazon_TRL_v5.ipynb\" target=\"_parent\"><img src=\"https://colab.research.google.com/assets/colab-badge.svg\" alt=\"Open In Colab\"/></a>"
      ]
    },
    {
      "cell_type": "markdown",
      "source": [
        "#**TRL paper classification**"
      ],
      "metadata": {
        "id": "c1b52oGE2Moy"
      }
    },
    {
      "cell_type": "markdown",
      "source": [
        "The objective of this code is to classify academic output (papers) related to Amazonian plant species according to their Technology Readness Level. This research is part of PROFitos project, funded by FAPESP (https://www.ige.unicamp.br/profitos/). This code was written by [Alysson Mazoni](https://github.com/alyssonmazoni) and [Vinicius Muraro](https://github.com/murarosilva)"
      ],
      "metadata": {
        "id": "u4BWqI9NXwvO"
      }
    },
    {
      "cell_type": "markdown",
      "source": [
        "Import all necessary libraries and authenticate user on Google Colab"
      ],
      "metadata": {
        "id": "vA62AJrC2ml9"
      }
    },
    {
      "cell_type": "code",
      "execution_count": null,
      "metadata": {
        "colab": {
          "base_uri": "https://localhost:8080/"
        },
        "id": "sM1y4j40Xs-8",
        "outputId": "769ccf22-8860-4fd2-84c8-6a443bc838c2"
      },
      "outputs": [
        {
          "output_type": "stream",
          "name": "stderr",
          "text": [
            "[nltk_data] Downloading package wordnet to /root/nltk_data...\n",
            "[nltk_data] Downloading package omw-1.4 to /root/nltk_data...\n"
          ]
        },
        {
          "output_type": "stream",
          "name": "stdout",
          "text": [
            "Mounted at /content/drive/\n"
          ]
        }
      ],
      "source": [
        "import os\n",
        "import glob\n",
        "import pandas as pd\n",
        "import numpy as np\n",
        "import matplotlib.pyplot as plt\n",
        "from gensim.parsing.preprocessing import STOPWORDS\n",
        "import gensim\n",
        "from gensim import models\n",
        "import pprint\n",
        "from nltk.stem import WordNetLemmatizer\n",
        "from gensim.matutils import hellinger\n",
        "from gensim.matutils import jaccard\n",
        "from gensim.matutils import kullback_leibler\n",
        "from gensim.matutils import jensen_shannon\n",
        "import nltk\n",
        "nltk.download('wordnet')\n",
        "nltk.download('omw-1.4')\n",
        "from google.colab import auth\n",
        "auth.authenticate_user()\n",
        "from google.colab import drive\n",
        "drive.mount('/content/drive/')"
      ]
    },
    {
      "cell_type": "markdown",
      "source": [
        "Upload database"
      ],
      "metadata": {
        "id": "5vfbq_l63qTm"
      }
    },
    {
      "cell_type": "code",
      "source": [
        "folder = '/content/drive/My Drive/[2] Unicamp/[1] Politica Cientifica e Tecnologica/[2] My Papers & Projects/[1] PROFITOS/Amazon_TRL_Classification/'\n",
        "works = pd.read_csv(folder+'scopus_2002-2022.csv', error_bad_lines=False)\n",
        "works = works.fillna('')"
      ],
      "metadata": {
        "colab": {
          "base_uri": "https://localhost:8080/"
        },
        "id": "Fi8yLAnm5vno",
        "outputId": "6dbaa33d-baf4-4274-b1fd-65288ffdaccf"
      },
      "execution_count": null,
      "outputs": [
        {
          "output_type": "stream",
          "name": "stderr",
          "text": [
            "<ipython-input-2-927d74af938f>:2: FutureWarning: The error_bad_lines argument has been deprecated and will be removed in a future version. Use on_bad_lines in the future.\n",
            "\n",
            "\n",
            "  works = pd.read_csv(folder+'scopus_2002-2022.csv', error_bad_lines=False)\n",
            "Skipping line 857: expected 54 fields, saw 57\n",
            "\n"
          ]
        }
      ]
    },
    {
      "cell_type": "markdown",
      "source": [
        "Upload manual classification and merge with main database (works)"
      ],
      "metadata": {
        "id": "7XyE-cyLCV7c"
      }
    },
    {
      "cell_type": "code",
      "source": [
        "class_works = pd.read_excel(folder+'Amazon_Geral_TRL_draft_v4.xlsx',sheet_name='Papers para Classificar',dtype=str)\n",
        "works_merged = pd.merge(works, class_works[[' DOI','Class. Manual']], left_on='DOI', right_on=' DOI', how='left')"
      ],
      "metadata": {
        "id": "26fd_hcpC1N9"
      },
      "execution_count": null,
      "outputs": []
    },
    {
      "cell_type": "markdown",
      "source": [
        "Using Title, Abstract and Keywords for text classification"
      ],
      "metadata": {
        "id": "d_I6-W2WBhbJ"
      }
    },
    {
      "cell_type": "code",
      "source": [
        "works_merged['nlp_text'] = works_merged['Title']+' '+works_merged['Abstract']+' '+works_merged['Author Keywords']"
      ],
      "metadata": {
        "id": "qjTnTWYoJBXb"
      },
      "execution_count": null,
      "outputs": []
    },
    {
      "cell_type": "markdown",
      "source": [
        "Upload TRL keywords list"
      ],
      "metadata": {
        "id": "qs_vQ1iqCCQt"
      }
    },
    {
      "cell_type": "code",
      "source": [
        "keywords = pd.read_excel(folder+'New_Amazon_Geral_Keywords.xlsx')\n",
        "keys_TRL = []\n",
        "for i in range(5):\n",
        "  keys_TRL += [' '.join(list(keywords.loc[keywords.iloc[:,i+4]==1,'Keywords (Cleaned)']))]"
      ],
      "metadata": {
        "id": "v1pCcyPuCEj7"
      },
      "execution_count": null,
      "outputs": []
    },
    {
      "cell_type": "markdown",
      "source": [
        "Add classified papers to keyword lists corresponding to each TRL"
      ],
      "metadata": {
        "id": "rv6mBNGXGTzk"
      }
    },
    {
      "cell_type": "code",
      "source": [
        "cats = ['1','2','3','4', '5']\n",
        "c = cats[0]\n",
        "TRL_train = keys_TRL\n",
        "\n",
        "for i,c in enumerate(cats):\n",
        "  ii = works_merged['Class. Manual']==c\n",
        "\n",
        "  TRL_train[i] +=' '.join(list(works_merged.loc[ii,'nlp_text']))"
      ],
      "metadata": {
        "id": "-RTunbeXF8Za"
      },
      "execution_count": null,
      "outputs": []
    },
    {
      "cell_type": "markdown",
      "source": [
        "Uploading stopwords and preprocessing text data"
      ],
      "metadata": {
        "id": "TwXz5LJzGyMe"
      }
    },
    {
      "cell_type": "code",
      "source": [
        "stopwords = set(STOPWORDS)\n",
        "my_stopwords = {'approach','paper','article','model','viewpoint','conclusion',\n",
        "                'discussion','method','introduction','section','framework',\n",
        "                'based','result','characteristic','implication','analysis',\n",
        "                'evidence','description','associated',\n",
        "                'observation','describe'} #pensar em colocar mais stopwords\n",
        "my_stopwords = set.union(stopwords,my_stopwords)\n",
        "my_stopwords = frozenset(my_stopwords)"
      ],
      "metadata": {
        "id": "TIdkI-t0G63l"
      },
      "execution_count": null,
      "outputs": []
    },
    {
      "cell_type": "markdown",
      "source": [
        "Lemmatization of NLP texts"
      ],
      "metadata": {
        "id": "3rjoEqn0KrBO"
      }
    },
    {
      "cell_type": "code",
      "source": [
        "nlp_texts_lem = []\n",
        "lem = WordNetLemmatizer()\n",
        "for text in list(works_merged['nlp_text']):\n",
        "    txt = gensim.utils.simple_preprocess(text)\n",
        "    txt = [word for word in txt if word not in my_stopwords]\n",
        "    for i,t in enumerate(txt):\n",
        "        txt[i] = lem.lemmatize(t)\n",
        "    nlp_texts_lem += [txt]"
      ],
      "metadata": {
        "id": "gVUdOf0HG-KZ"
      },
      "execution_count": null,
      "outputs": []
    },
    {
      "cell_type": "markdown",
      "source": [
        "Creating a bag of words of NLP lemmatized texts"
      ],
      "metadata": {
        "id": "xXyZ0zUEKuoW"
      }
    },
    {
      "cell_type": "code",
      "source": [
        "dictionary = gensim.corpora.Dictionary(nlp_texts_lem)\n",
        "dictionary.filter_extremes(no_below=15, no_above=0.5, keep_n=100000)\n",
        "bow_corpus = [dictionary.doc2bow(doc) for doc in nlp_texts_lem]"
      ],
      "metadata": {
        "id": "68BED83qHPbI"
      },
      "execution_count": null,
      "outputs": []
    },
    {
      "cell_type": "markdown",
      "source": [
        "Creating and training a TF-IDF model based on the bag of words"
      ],
      "metadata": {
        "id": "J4EArLCYK20d"
      }
    },
    {
      "cell_type": "code",
      "source": [
        "tfidf = models.TfidfModel(bow_corpus)\n",
        "corpus_tfidf = tfidf[bow_corpus]"
      ],
      "metadata": {
        "id": "tV7Qtw0yHVS8"
      },
      "execution_count": null,
      "outputs": []
    },
    {
      "cell_type": "markdown",
      "source": [
        "Training LDA model"
      ],
      "metadata": {
        "id": "MSzCsO3dHWwM"
      }
    },
    {
      "cell_type": "code",
      "source": [
        "n_topics = 20\n",
        "lda_model_tfidf = gensim.models.LdaMulticore(corpus_tfidf, num_topics=n_topics, id2word=dictionary, passes=10, workers=4)\n",
        "topics_text = []\n",
        "for idx, topic in lda_model_tfidf.print_topics(-1):\n",
        "    topics_text += ['Topic: {} \\nWords: {}'.format(idx, topic)]\n",
        "    print('Topic: {} Word: {}'.format(idx, topic))"
      ],
      "metadata": {
        "id": "SM3VNznoHYMf",
        "colab": {
          "base_uri": "https://localhost:8080/"
        },
        "outputId": "3e2d04c2-8777-488c-be02-988410cfdd0f"
      },
      "execution_count": null,
      "outputs": [
        {
          "output_type": "stream",
          "name": "stdout",
          "text": [
            "Topic: 0 Word: 0.035*\"antimicrobial\" + 0.031*\"aureus\" + 0.025*\"staphylococcus\" + 0.025*\"atcc\" + 0.022*\"candida\" + 0.019*\"aeruginosa\" + 0.018*\"mic\" + 0.017*\"albicans\" + 0.016*\"antibacterial\" + 0.016*\"pseudomonas\"\n",
            "Topic: 1 Word: 0.040*\"antimalarial\" + 0.026*\"falciparum\" + 0.024*\"plasmodium\" + 0.017*\"malaria\" + 0.010*\"snakebite\" + 0.009*\"germination\" + 0.008*\"french\" + 0.006*\"do\" + 0.006*\"aspidosperma\" + 0.006*\"principle\"\n",
            "Topic: 2 Word: 0.043*\"ayahuasca\" + 0.008*\"dmt\" + 0.007*\"olacoides\" + 0.006*\"addiction\" + 0.006*\"ptychopetalum\" + 0.006*\"religious\" + 0.006*\"self\" + 0.005*\"caapi\" + 0.005*\"disorder\" + 0.005*\"depression\"\n",
            "Topic: 3 Word: 0.034*\"larva\" + 0.031*\"aegypti\" + 0.021*\"larvicidal\" + 0.020*\"aedes\" + 0.017*\"mosquito\" + 0.016*\"insecticide\" + 0.013*\"marine\" + 0.012*\"vector\" + 0.009*\"insect\" + 0.006*\"carapa\"\n",
            "Topic: 4 Word: 0.017*\"açaí\" + 0.013*\"oleracea\" + 0.012*\"euterpe\" + 0.010*\"açai\" + 0.008*\"negro\" + 0.008*\"microscopy\" + 0.007*\"surface\" + 0.007*\"land\" + 0.007*\"streptococcus\" + 0.006*\"scanning\"\n",
            "Topic: 5 Word: 0.009*\"mg\" + 0.008*\"inflammatory\" + 0.008*\"effect\" + 0.008*\"mouse\" + 0.008*\"anti\" + 0.007*\"extract\" + 0.007*\"induced\" + 0.007*\"rat\" + 0.006*\"treatment\" + 0.006*\"day\"\n",
            "Topic: 6 Word: 0.009*\"health\" + 0.009*\"community\" + 0.008*\"traditional\" + 0.008*\"knowledge\" + 0.008*\"medicinal\" + 0.007*\"practice\" + 0.007*\"indigenous\" + 0.007*\"malaria\" + 0.007*\"medicine\" + 0.007*\"resource\"\n",
            "Topic: 7 Word: 0.004*\"fiber\" + 0.003*\"mineral\" + 0.001*\"incorporated\" + 0.001*\"ray\" + 0.001*\"ca\" + 0.001*\"matrix\" + 0.001*\"guianensis\" + 0.001*\"acid\" + 0.001*\"ursolic\" + 0.001*\"oil\"\n",
            "Topic: 8 Word: 0.011*\"extract\" + 0.008*\"antioxidant\" + 0.008*\"phenolic\" + 0.007*\"compound\" + 0.007*\"acid\" + 0.007*\"m\" + 0.007*\"flavonoid\" + 0.007*\"fraction\" + 0.006*\"metabolite\" + 0.006*\"fungi\"\n",
            "Topic: 9 Word: 0.007*\"hemolytic\" + 0.006*\"renal\" + 0.006*\"injury\" + 0.005*\"subtropical\" + 0.002*\"oil\" + 0.002*\"essential\" + 0.002*\"sesquiterpenes\" + 0.002*\"herb\" + 0.002*\"infantum\" + 0.002*\"behavior\"\n",
            "Topic: 10 Word: 0.025*\"leishmania\" + 0.023*\"amazonensis\" + 0.017*\"antileishmanial\" + 0.014*\"leishmanicidal\" + 0.014*\"ic\" + 0.013*\"promastigotes\" + 0.012*\"μg\" + 0.012*\"leishmaniasis\" + 0.012*\"amastigotes\" + 0.011*\"ml\"\n",
            "Topic: 11 Word: 0.008*\"knowledge\" + 0.008*\"forest\" + 0.007*\"specie\" + 0.007*\"medicinal\" + 0.006*\"palm\" + 0.006*\"community\" + 0.006*\"use\" + 0.006*\"us\" + 0.006*\"ethnobotanical\" + 0.005*\"indigenous\"\n",
            "Topic: 12 Word: 0.007*\"laboratory\" + 0.006*\"induction\" + 0.004*\"amazona\" + 0.004*\"oleracea\" + 0.003*\"açaí\" + 0.003*\"length\" + 0.002*\"subsequently\" + 0.002*\"anesthetic\" + 0.002*\"subtropical\" + 0.002*\"trend\"\n",
            "Topic: 13 Word: 0.002*\"marapuama\" + 0.002*\"hepg\" + 0.002*\"john\" + 0.002*\"son\" + 0.002*\"wiley\" + 0.002*\"methyl\" + 0.002*\"olacoides\" + 0.002*\"volatile\" + 0.002*\"copyright\" + 0.002*\"ptychopetalum\"\n",
            "Topic: 14 Word: 0.031*\"copaiba\" + 0.027*\"oil\" + 0.024*\"copaifera\" + 0.022*\"oleoresin\" + 0.010*\"flexuosa\" + 0.010*\"diterpenes\" + 0.010*\"extraction\" + 0.010*\"reticulata\" + 0.009*\"resin\" + 0.009*\"mauritia\"\n",
            "Topic: 15 Word: 0.021*\"µm\" + 0.008*\"reproductive\" + 0.007*\"annona\" + 0.006*\"female\" + 0.006*\"hexane\" + 0.005*\"larva\" + 0.005*\"black\" + 0.005*\"apigenin\" + 0.004*\"swelling\" + 0.004*\"leishmania\"\n",
            "Topic: 16 Word: 0.018*\"oil\" + 0.015*\"essential\" + 0.011*\"cell\" + 0.009*\"eo\" + 0.009*\"piper\" + 0.008*\"ml\" + 0.007*\"cancer\" + 0.007*\"cruzi\" + 0.006*\"line\" + 0.006*\"μg\"\n",
            "Topic: 17 Word: 0.019*\"genetic\" + 0.008*\"diversity\" + 0.008*\"psychotria\" + 0.008*\"cultivated\" + 0.007*\"distribution\" + 0.007*\"tree\" + 0.007*\"seed\" + 0.007*\"brain\" + 0.007*\"population\" + 0.006*\"wild\"\n",
            "Topic: 18 Word: 0.021*\"indole\" + 0.014*\"aspidosperma\" + 0.008*\"alkaloid\" + 0.005*\"chemistry\" + 0.003*\"ring\" + 0.003*\"leishmanial\" + 0.002*\"lc\" + 0.002*\"modern\" + 0.002*\"class\" + 0.002*\"green\"\n",
            "Topic: 19 Word: 0.045*\"abstract\" + 0.029*\"available\" + 0.010*\"wild\" + 0.008*\"ducke\" + 0.008*\"copaifera\" + 0.007*\"arthritis\" + 0.007*\"leishmaniasis\" + 0.005*\"development\" + 0.005*\"medicina\" + 0.005*\"lowland\"\n"
          ]
        }
      ]
    },
    {
      "cell_type": "markdown",
      "source": [
        "Fit all texts bag of words into trained LDA model"
      ],
      "metadata": {
        "id": "GEaiECu8IcqC"
      }
    },
    {
      "cell_type": "code",
      "source": [
        "bow_nlp_texts = []\n",
        "model_nlp_texts = []\n",
        "for j in nlp_texts_lem:\n",
        "  mt = lda_model_tfidf.id2word.doc2bow(j)\n",
        "  bow_nlp_texts += [mt]\n",
        "  model_nlp_texts += [lda_model_tfidf[mt]]"
      ],
      "metadata": {
        "id": "sjpi11ihIMPz"
      },
      "execution_count": null,
      "outputs": []
    },
    {
      "cell_type": "markdown",
      "source": [
        "Preprocessing TRL trained database"
      ],
      "metadata": {
        "id": "kJ2tqXQQHnJK"
      }
    },
    {
      "cell_type": "code",
      "source": [
        "trl_texts_lem = []\n",
        "for text in TRL_train:\n",
        "    txt = gensim.utils.simple_preprocess(text)\n",
        "    txt = [word for word in txt if word not in my_stopwords]\n",
        "    for i,t in enumerate(txt):\n",
        "        txt[i] = lem.lemmatize(t)\n",
        "    trl_texts_lem += [txt]"
      ],
      "metadata": {
        "id": "coGl_5SPHv5L"
      },
      "execution_count": null,
      "outputs": []
    },
    {
      "cell_type": "markdown",
      "source": [
        "Preprocessing TRL keywords (tentative)"
      ],
      "metadata": {
        "id": "m4I-zlRpMzVG"
      }
    },
    {
      "cell_type": "code",
      "source": [
        "trl_key_lem = []\n",
        "for text in keys_TRL:\n",
        "  txt = gensim.utils.simple_preprocess(text)\n",
        "  txt = [word for word in txt if word not in my_stopwords]\n",
        "  for i,t in enumerate(txt):\n",
        "    txt[i] = lem.lemmatize(t)\n",
        "  trl_key_lem += [txt]"
      ],
      "metadata": {
        "id": "7xUDhjAkM2zp"
      },
      "execution_count": null,
      "outputs": []
    },
    {
      "cell_type": "markdown",
      "source": [
        "Fit TRL trained database bag of words into the trained LDA model"
      ],
      "metadata": {
        "id": "X17Sn6joIPQV"
      }
    },
    {
      "cell_type": "code",
      "source": [
        "bow_trl_texts = []\n",
        "model_trl_texts = []\n",
        "for k in trl_texts_lem:\n",
        "  mk = lda_model_tfidf.id2word.doc2bow(k)\n",
        "  bow_trl_texts += [mk]\n",
        "  model_trl_texts += [lda_model_tfidf[mk]]"
      ],
      "metadata": {
        "id": "2wYeMWDFH0hw"
      },
      "execution_count": null,
      "outputs": []
    },
    {
      "cell_type": "markdown",
      "source": [
        "Fit TRL keywords database bag of words into the trained LDA model (tentative)"
      ],
      "metadata": {
        "id": "JOJS7hh8On8c"
      }
    },
    {
      "cell_type": "code",
      "source": [
        "bow_key_texts = []\n",
        "model_key_texts = []\n",
        "for k in trl_key_lem:\n",
        "  mk = lda_model_tfidf.id2word.doc2bow(k)\n",
        "  bow_key_texts += [mk]\n",
        "  model_key_texts += [lda_model_tfidf[mk]]"
      ],
      "metadata": {
        "id": "FvSho-0UO3Ac"
      },
      "execution_count": null,
      "outputs": []
    },
    {
      "cell_type": "markdown",
      "source": [
        "Checking different distant measures"
      ],
      "metadata": {
        "id": "JjmH3EmdIsPY"
      }
    },
    {
      "cell_type": "code",
      "source": [
        "model_trl = model_trl_texts #or model_key_texts if we want to test without the classified papers (just keywords for each TRL)\n",
        "bow_trl = bow_trl_texts #or bow_key_texts if we want to test without the classified papers (just keywords for each TRL)\n",
        "\n",
        "n = len(model_nlp_texts)\n",
        "m = len(model_trl)\n",
        "Dh = np.zeros((n,m))\n",
        "for i,a in enumerate(model_nlp_texts):\n",
        "  for j,b in enumerate(model_trl):\n",
        "    Dh[i,j] = hellinger(a,b)\n",
        "\n",
        "n = len(model_nlp_texts)\n",
        "m = len(model_trl)\n",
        "Dkl = np.zeros((n,m))\n",
        "for i,a in enumerate(model_nlp_texts):\n",
        "  for j,b in enumerate(model_trl):\n",
        "    Dkl[i,j] = kullback_leibler(a,b,num_features=n_topics)\n",
        "\n",
        "n = len(model_nlp_texts)\n",
        "m = len(model_trl)\n",
        "Djl = np.zeros((n,m))\n",
        "for i,a in enumerate(model_nlp_texts):\n",
        "  for j,b in enumerate(model_trl):\n",
        "    Djl[i,j] = jensen_shannon(a,b,num_features=n_topics)\n",
        "\n",
        "n = len(bow_nlp_texts)\n",
        "m = len(bow_trl)\n",
        "Dj = np.zeros((n,m))\n",
        "for i,a in enumerate(bow_nlp_texts):\n",
        "  for j,b in enumerate(bow_trl):\n",
        "    Dj[i,j] = jaccard(a,b)\n"
      ],
      "metadata": {
        "id": "C4daUinQIvRg"
      },
      "execution_count": null,
      "outputs": []
    },
    {
      "cell_type": "code",
      "source": [
        "Class_TRL = np.argmin(Dh,axis=1)\n",
        "d_texts = np.min(Dh,axis=1)\n",
        "works_merged['TR_hellinger'] = Class_TRL+1\n",
        "\n",
        "Class_TRL = np.argmin(Dkl,axis=1)\n",
        "d_texts = np.min(Dkl,axis=1)\n",
        "works_merged['TR_kullback_leibler'] = Class_TRL+1\n",
        "\n",
        "Class_TRL = np.argmin(Dkl,axis=1)\n",
        "d_texts = np.min(Dkl,axis=1)\n",
        "works_merged['TR_jensen_shannon'] = Class_TRL+1\n",
        "\n",
        "Class_TRL = np.argmin(Dj,axis=1)\n",
        "d_texts = np.min(Dj,axis=1)\n",
        "works_merged['TR_jaccard'] = Class_TRL+1\n",
        "\n",
        "#Trying to collect the second best classification - NOT IN USE NOW\n",
        "#TR_texts_second = np.argsort(D,axis=1)[:,1]\n",
        "#d2_texts = np.sort(D,axis=1)[:,2]\n",
        "#works_merged['TR_second'] = TR_texts_second+1"
      ],
      "metadata": {
        "id": "W-T-lJfsI4YQ"
      },
      "execution_count": null,
      "outputs": []
    },
    {
      "cell_type": "code",
      "source": [
        "works_merged.loc[works_merged['Class. Manual'].notnull()].iloc[:,[2,55,57,58,59,60]]"
      ],
      "metadata": {
        "colab": {
          "base_uri": "https://localhost:8080/",
          "height": 424
        },
        "id": "Hq5XdWVJL7DX",
        "outputId": "57f64f91-c5e7-4fc1-deda-e26d71c5386f"
      },
      "execution_count": null,
      "outputs": [
        {
          "output_type": "execute_result",
          "data": {
            "text/plain": [
              "                                                  Title Class. Manual  \\\n",
              "164   Anti-inflammatory potential of the oleoresin f...             4   \n",
              "165   Secondary metabolites found among the species ...             3   \n",
              "166   Croton lechleri extracts as green corrosion in...             2   \n",
              "167   Kaniuwatewara (when we get sick): understandin...             5   \n",
              "168   In vitro propagation of the Amazonian medicina...             1   \n",
              "...                                                 ...           ...   \n",
              "873   Medicinal plants at Rio Jauaperi, Brazilian Am...             1   \n",
              "893   Ethnobotany of babassu palm (Attalea speciosa ...             1   \n",
              "1011  The domestication of annatto (Bixa orellana) f...             1   \n",
              "1044                               Conservation and use             1   \n",
              "1085  A Systematic Approach to Species–Level Identif...             1   \n",
              "\n",
              "      TR_hellinger  TR_kullback_leibler  TR_jensen_shannon  TR_jaccard  \n",
              "164              4                    4                  4           4  \n",
              "165              2                    1                  1           3  \n",
              "166              2                    2                  2           2  \n",
              "167              1                    1                  1           5  \n",
              "168              5                    1                  1           5  \n",
              "...            ...                  ...                ...         ...  \n",
              "873              1                    1                  1           5  \n",
              "893              1                    1                  1           1  \n",
              "1011             1                    1                  1           1  \n",
              "1044             1                    1                  1           2  \n",
              "1085             1                    1                  1           1  \n",
              "\n",
              "[107 rows x 6 columns]"
            ],
            "text/html": [
              "\n",
              "  <div id=\"df-e3e9a282-3b74-4020-8d6c-be490f485922\">\n",
              "    <div class=\"colab-df-container\">\n",
              "      <div>\n",
              "<style scoped>\n",
              "    .dataframe tbody tr th:only-of-type {\n",
              "        vertical-align: middle;\n",
              "    }\n",
              "\n",
              "    .dataframe tbody tr th {\n",
              "        vertical-align: top;\n",
              "    }\n",
              "\n",
              "    .dataframe thead th {\n",
              "        text-align: right;\n",
              "    }\n",
              "</style>\n",
              "<table border=\"1\" class=\"dataframe\">\n",
              "  <thead>\n",
              "    <tr style=\"text-align: right;\">\n",
              "      <th></th>\n",
              "      <th>Title</th>\n",
              "      <th>Class. Manual</th>\n",
              "      <th>TR_hellinger</th>\n",
              "      <th>TR_kullback_leibler</th>\n",
              "      <th>TR_jensen_shannon</th>\n",
              "      <th>TR_jaccard</th>\n",
              "    </tr>\n",
              "  </thead>\n",
              "  <tbody>\n",
              "    <tr>\n",
              "      <th>164</th>\n",
              "      <td>Anti-inflammatory potential of the oleoresin f...</td>\n",
              "      <td>4</td>\n",
              "      <td>4</td>\n",
              "      <td>4</td>\n",
              "      <td>4</td>\n",
              "      <td>4</td>\n",
              "    </tr>\n",
              "    <tr>\n",
              "      <th>165</th>\n",
              "      <td>Secondary metabolites found among the species ...</td>\n",
              "      <td>3</td>\n",
              "      <td>2</td>\n",
              "      <td>1</td>\n",
              "      <td>1</td>\n",
              "      <td>3</td>\n",
              "    </tr>\n",
              "    <tr>\n",
              "      <th>166</th>\n",
              "      <td>Croton lechleri extracts as green corrosion in...</td>\n",
              "      <td>2</td>\n",
              "      <td>2</td>\n",
              "      <td>2</td>\n",
              "      <td>2</td>\n",
              "      <td>2</td>\n",
              "    </tr>\n",
              "    <tr>\n",
              "      <th>167</th>\n",
              "      <td>Kaniuwatewara (when we get sick): understandin...</td>\n",
              "      <td>5</td>\n",
              "      <td>1</td>\n",
              "      <td>1</td>\n",
              "      <td>1</td>\n",
              "      <td>5</td>\n",
              "    </tr>\n",
              "    <tr>\n",
              "      <th>168</th>\n",
              "      <td>In vitro propagation of the Amazonian medicina...</td>\n",
              "      <td>1</td>\n",
              "      <td>5</td>\n",
              "      <td>1</td>\n",
              "      <td>1</td>\n",
              "      <td>5</td>\n",
              "    </tr>\n",
              "    <tr>\n",
              "      <th>...</th>\n",
              "      <td>...</td>\n",
              "      <td>...</td>\n",
              "      <td>...</td>\n",
              "      <td>...</td>\n",
              "      <td>...</td>\n",
              "      <td>...</td>\n",
              "    </tr>\n",
              "    <tr>\n",
              "      <th>873</th>\n",
              "      <td>Medicinal plants at Rio Jauaperi, Brazilian Am...</td>\n",
              "      <td>1</td>\n",
              "      <td>1</td>\n",
              "      <td>1</td>\n",
              "      <td>1</td>\n",
              "      <td>5</td>\n",
              "    </tr>\n",
              "    <tr>\n",
              "      <th>893</th>\n",
              "      <td>Ethnobotany of babassu palm (Attalea speciosa ...</td>\n",
              "      <td>1</td>\n",
              "      <td>1</td>\n",
              "      <td>1</td>\n",
              "      <td>1</td>\n",
              "      <td>1</td>\n",
              "    </tr>\n",
              "    <tr>\n",
              "      <th>1011</th>\n",
              "      <td>The domestication of annatto (Bixa orellana) f...</td>\n",
              "      <td>1</td>\n",
              "      <td>1</td>\n",
              "      <td>1</td>\n",
              "      <td>1</td>\n",
              "      <td>1</td>\n",
              "    </tr>\n",
              "    <tr>\n",
              "      <th>1044</th>\n",
              "      <td>Conservation and use</td>\n",
              "      <td>1</td>\n",
              "      <td>1</td>\n",
              "      <td>1</td>\n",
              "      <td>1</td>\n",
              "      <td>2</td>\n",
              "    </tr>\n",
              "    <tr>\n",
              "      <th>1085</th>\n",
              "      <td>A Systematic Approach to Species–Level Identif...</td>\n",
              "      <td>1</td>\n",
              "      <td>1</td>\n",
              "      <td>1</td>\n",
              "      <td>1</td>\n",
              "      <td>1</td>\n",
              "    </tr>\n",
              "  </tbody>\n",
              "</table>\n",
              "<p>107 rows × 6 columns</p>\n",
              "</div>\n",
              "      <button class=\"colab-df-convert\" onclick=\"convertToInteractive('df-e3e9a282-3b74-4020-8d6c-be490f485922')\"\n",
              "              title=\"Convert this dataframe to an interactive table.\"\n",
              "              style=\"display:none;\">\n",
              "        \n",
              "  <svg xmlns=\"http://www.w3.org/2000/svg\" height=\"24px\"viewBox=\"0 0 24 24\"\n",
              "       width=\"24px\">\n",
              "    <path d=\"M0 0h24v24H0V0z\" fill=\"none\"/>\n",
              "    <path d=\"M18.56 5.44l.94 2.06.94-2.06 2.06-.94-2.06-.94-.94-2.06-.94 2.06-2.06.94zm-11 1L8.5 8.5l.94-2.06 2.06-.94-2.06-.94L8.5 2.5l-.94 2.06-2.06.94zm10 10l.94 2.06.94-2.06 2.06-.94-2.06-.94-.94-2.06-.94 2.06-2.06.94z\"/><path d=\"M17.41 7.96l-1.37-1.37c-.4-.4-.92-.59-1.43-.59-.52 0-1.04.2-1.43.59L10.3 9.45l-7.72 7.72c-.78.78-.78 2.05 0 2.83L4 21.41c.39.39.9.59 1.41.59.51 0 1.02-.2 1.41-.59l7.78-7.78 2.81-2.81c.8-.78.8-2.07 0-2.86zM5.41 20L4 18.59l7.72-7.72 1.47 1.35L5.41 20z\"/>\n",
              "  </svg>\n",
              "      </button>\n",
              "      \n",
              "  <style>\n",
              "    .colab-df-container {\n",
              "      display:flex;\n",
              "      flex-wrap:wrap;\n",
              "      gap: 12px;\n",
              "    }\n",
              "\n",
              "    .colab-df-convert {\n",
              "      background-color: #E8F0FE;\n",
              "      border: none;\n",
              "      border-radius: 50%;\n",
              "      cursor: pointer;\n",
              "      display: none;\n",
              "      fill: #1967D2;\n",
              "      height: 32px;\n",
              "      padding: 0 0 0 0;\n",
              "      width: 32px;\n",
              "    }\n",
              "\n",
              "    .colab-df-convert:hover {\n",
              "      background-color: #E2EBFA;\n",
              "      box-shadow: 0px 1px 2px rgba(60, 64, 67, 0.3), 0px 1px 3px 1px rgba(60, 64, 67, 0.15);\n",
              "      fill: #174EA6;\n",
              "    }\n",
              "\n",
              "    [theme=dark] .colab-df-convert {\n",
              "      background-color: #3B4455;\n",
              "      fill: #D2E3FC;\n",
              "    }\n",
              "\n",
              "    [theme=dark] .colab-df-convert:hover {\n",
              "      background-color: #434B5C;\n",
              "      box-shadow: 0px 1px 3px 1px rgba(0, 0, 0, 0.15);\n",
              "      filter: drop-shadow(0px 1px 2px rgba(0, 0, 0, 0.3));\n",
              "      fill: #FFFFFF;\n",
              "    }\n",
              "  </style>\n",
              "\n",
              "      <script>\n",
              "        const buttonEl =\n",
              "          document.querySelector('#df-e3e9a282-3b74-4020-8d6c-be490f485922 button.colab-df-convert');\n",
              "        buttonEl.style.display =\n",
              "          google.colab.kernel.accessAllowed ? 'block' : 'none';\n",
              "\n",
              "        async function convertToInteractive(key) {\n",
              "          const element = document.querySelector('#df-e3e9a282-3b74-4020-8d6c-be490f485922');\n",
              "          const dataTable =\n",
              "            await google.colab.kernel.invokeFunction('convertToInteractive',\n",
              "                                                     [key], {});\n",
              "          if (!dataTable) return;\n",
              "\n",
              "          const docLinkHtml = 'Like what you see? Visit the ' +\n",
              "            '<a target=\"_blank\" href=https://colab.research.google.com/notebooks/data_table.ipynb>data table notebook</a>'\n",
              "            + ' to learn more about interactive tables.';\n",
              "          element.innerHTML = '';\n",
              "          dataTable['output_type'] = 'display_data';\n",
              "          await google.colab.output.renderOutput(dataTable, element);\n",
              "          const docLink = document.createElement('div');\n",
              "          docLink.innerHTML = docLinkHtml;\n",
              "          element.appendChild(docLink);\n",
              "        }\n",
              "      </script>\n",
              "    </div>\n",
              "  </div>\n",
              "  "
            ]
          },
          "metadata": {},
          "execution_count": 19
        }
      ]
    },
    {
      "cell_type": "code",
      "source": [
        "works_merged.to_excel(folder+'TRL_classification.xlsx')"
      ],
      "metadata": {
        "id": "MJiVQfx1LvMP"
      },
      "execution_count": null,
      "outputs": []
    },
    {
      "cell_type": "code",
      "source": [
        "T = works_merged\n",
        "T = T[['Class. Manual','TR_hellinger','TR_jaccard','TR_kullback_leibler','TR_jensen_shannon']]\n",
        "x = T.index.values\n",
        "y = T['Class. Manual'].replace('','0').fillna('0').astype(int).values\n",
        "z = T['TR_hellinger'].fillna('0').astype(int).values\n",
        "w = T['TR_jaccard'].fillna('0').astype(int).values\n",
        "k = T['TR_kullback_leibler'].fillna('0').astype(int).values\n",
        "j = T['TR_jensen_shannon'].fillna('0').astype(int).values"
      ],
      "metadata": {
        "id": "jwUHArDbNaQl"
      },
      "execution_count": null,
      "outputs": []
    },
    {
      "cell_type": "code",
      "source": [
        "eh = y[y>0]-z[y>0]\n",
        "ej = y[y>0]-w[y>0]\n",
        "ekl = y[y>0]-k[y>0]\n",
        "ejs = y[y>0]-j[y>0]\n",
        "print('Hellinger:',np.sum(eh!=0)/len(eh),\n",
        "      'Jaccard:',np.sum(ej!=0)/len(ej),\n",
        "      'Kullback-Leibler:',np.sum(ekl!=0)/len(ekl),\n",
        "      'Jensen-Shannon:',np.sum(ejs!=0)/len(ejs))"
      ],
      "metadata": {
        "colab": {
          "base_uri": "https://localhost:8080/"
        },
        "id": "Is9B_40ENg4V",
        "outputId": "f50c59c0-c59b-4403-baee-c0046d75f2c6"
      },
      "execution_count": null,
      "outputs": [
        {
          "output_type": "stream",
          "name": "stdout",
          "text": [
            "Hellinger: 0.2336448598130841 Jaccard: 0.22429906542056074 Kullback-Leibler: 0.3644859813084112 Jensen-Shannon: 0.3644859813084112\n"
          ]
        }
      ]
    },
    {
      "cell_type": "code",
      "source": [
        "plt.hist(w,bins=[0.5,1.5,2.5,3.5,4.5,5.5])\n",
        "plt.hist(w[y>0],bins=[0.5,1.5,2.5,3.5,4.5,5.5])\n",
        "plt.xticks([1,2,3,4,5])\n",
        "plt.xlabel('TR classification')\n",
        "plt.ylabel('Frequency')\n",
        "plt.title('Jaccard distance')"
      ],
      "metadata": {
        "colab": {
          "base_uri": "https://localhost:8080/",
          "height": 489
        },
        "id": "nUez2XN0WpRK",
        "outputId": "7f2d8208-d86e-4e69-b464-3ac099314455"
      },
      "execution_count": null,
      "outputs": [
        {
          "output_type": "execute_result",
          "data": {
            "text/plain": [
              "Text(0.5, 1.0, 'Jaccard distance')"
            ]
          },
          "metadata": {},
          "execution_count": 22
        },
        {
          "output_type": "display_data",
          "data": {
            "text/plain": [
              "<Figure size 640x480 with 1 Axes>"
            ],
            "image/png": "[encoded data removed]"
          },
          "metadata": {}
        }
      ]
    }
  ]
}